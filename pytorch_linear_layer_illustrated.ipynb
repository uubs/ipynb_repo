{
  "nbformat": 4,
  "nbformat_minor": 0,
  "metadata": {
    "colab": {
      "name": "pytorch_linear_layer_illustrated.ipynb",
      "provenance": [],
      "authorship_tag": "ABX9TyPxpuBHLzy9uAiE5BqmR6+m",
      "include_colab_link": true
    },
    "kernelspec": {
      "name": "python3",
      "display_name": "Python 3"
    },
    "language_info": {
      "name": "python"
    }
  },
  "cells": [
    {
      "cell_type": "markdown",
      "metadata": {
        "id": "view-in-github",
        "colab_type": "text"
      },
      "source": [
        "<a href=\"https://colab.research.google.com/github/uubs/ipynb_repo/blob/main/pytorch_linear_layer_illustrated.ipynb\" target=\"_parent\"><img src=\"https://colab.research.google.com/assets/colab-badge.svg\" alt=\"Open In Colab\"/></a>"
      ]
    },
    {
      "cell_type": "markdown",
      "source": [
        "# Linear Layer(线性层）"
      ],
      "metadata": {
        "id": "g4es22CMAm8a"
      }
    },
    {
      "cell_type": "code",
      "execution_count": 3,
      "metadata": {
        "colab": {
          "base_uri": "https://localhost:8080/"
        },
        "id": "W01KQAou49aj",
        "outputId": "6c22eb65-0fc8-4105-a605-57e634e4a29d"
      },
      "outputs": [
        {
          "output_type": "stream",
          "name": "stdout",
          "text": [
            "tensor([30., 40., 50.])\n"
          ]
        }
      ],
      "source": [
        "import torch\n",
        "\n",
        "in_features = torch.tensor([1,2,3,4], dtype=torch.float32)\n",
        "\n",
        "# 权重矩阵，将一个有4个元素的一维张量映射为一个有三个元素的一维张量\n",
        "weight_matrix = torch.tensor([\n",
        "  [1,2,3,4],\n",
        "  [2,3,4,5],\n",
        "  [3,4,5,6]\n",
        "],dtype=torch.float32)\n",
        "\n",
        "res = weight_matrix.matmul(in_features)\n",
        "print(res)"
      ]
    },
    {
      "cell_type": "markdown",
      "source": [
        "linear层的工作原理，它使用权重矩阵将一个`in_feature`空间映射到一个`out_feature`空间"
      ],
      "metadata": {
        "id": "qd8c0fUq6o51"
      }
    },
    {
      "cell_type": "code",
      "source": [
        "# pytorch 中创建一个Linear层，将会随机生成一个4x3的weight_matrix\n",
        "fc = torch.nn.Linear(in_features=4, out_features=3, bias=False)\n",
        "fc(in_features)"
      ],
      "metadata": {
        "colab": {
          "base_uri": "https://localhost:8080/"
        },
        "id": "4kc2xvFm69Fz",
        "outputId": "c65c02ad-0e5c-4488-c40b-9424e4edcc89"
      },
      "execution_count": 6,
      "outputs": [
        {
          "output_type": "execute_result",
          "data": {
            "text/plain": [
              "tensor([ 0.8826,  0.2451, -2.3619], grad_fn=<SqueezeBackward3>)"
            ]
          },
          "metadata": {},
          "execution_count": 6
        }
      ]
    },
    {
      "cell_type": "code",
      "source": [
        "# 显示的设置fc的weight_matrix为我们之前定义的matrix, bias=False\n",
        "fc = torch.nn.Linear(in_features=4, out_features=3, bias=False)\n",
        "fc.weight = torch.nn.Parameter(weight_matrix)\n",
        "fc(in_features)"
      ],
      "metadata": {
        "colab": {
          "base_uri": "https://localhost:8080/"
        },
        "id": "36IOdDc99bDl",
        "outputId": "403e9c95-eda8-4004-989e-db61fab2ebed"
      },
      "execution_count": 9,
      "outputs": [
        {
          "output_type": "execute_result",
          "data": {
            "text/plain": [
              "tensor([30., 40., 50.], grad_fn=<SqueezeBackward3>)"
            ]
          },
          "metadata": {},
          "execution_count": 9
        }
      ]
    },
    {
      "cell_type": "code",
      "source": [
        "# 显示的设置fc的weight_matrix为我们之前定义的matrix, bias=True\n",
        "fc = torch.nn.Linear(in_features=4, out_features=3, bias=True)\n",
        "fc.weight = torch.nn.Parameter(weight_matrix)\n",
        "fc(in_features)"
      ],
      "metadata": {
        "colab": {
          "base_uri": "https://localhost:8080/"
        },
        "id": "HvRaPvqW-FmT",
        "outputId": "63bc4d74-6d9f-4504-a532-fca055e140fe"
      },
      "execution_count": 11,
      "outputs": [
        {
          "output_type": "execute_result",
          "data": {
            "text/plain": [
              "tensor([30.0497, 40.2534, 50.4212], grad_fn=<AddBackward0>)"
            ]
          },
          "metadata": {},
          "execution_count": 11
        }
      ]
    },
    {
      "cell_type": "markdown",
      "source": [
        "`Linear Layer`又称为`Full-connected Layer`,是对特征的线性变换。"
      ],
      "metadata": {
        "id": "yF8otilR_X0V"
      }
    },
    {
      "cell_type": "code",
      "source": [
        "torch.nn.Linear(in_features,out_features,bias=True)"
      ],
      "metadata": {
        "id": "aBTkKPVg_yIV"
      },
      "execution_count": null,
      "outputs": []
    },
    {
      "cell_type": "markdown",
      "source": [
        "- in_features:输入节点数\n",
        "- out_features:输出节点数\n",
        "- bias:是否需要偏置\n",
        "计算公式\n",
        "$$\n",
        "y = xW^T + bias\n",
        "$$"
      ],
      "metadata": {
        "id": "exo-q4JL_6Ie"
      }
    },
    {
      "cell_type": "markdown",
      "source": [
        "# Activation Function Layer（激活函数层）"
      ],
      "metadata": {
        "id": "BAZKd20oAfmV"
      }
    },
    {
      "cell_type": "markdown",
      "source": [
        "nn.Sigmoid"
      ],
      "metadata": {
        "id": "0rCtcdnDBtUK"
      }
    },
    {
      "cell_type": "code",
      "source": [
        ""
      ],
      "metadata": {
        "id": "fR6D1vEsAyP8"
      },
      "execution_count": null,
      "outputs": []
    }
  ]
}