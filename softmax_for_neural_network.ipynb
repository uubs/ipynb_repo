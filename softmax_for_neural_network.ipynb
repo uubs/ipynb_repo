{
  "nbformat": 4,
  "nbformat_minor": 0,
  "metadata": {
    "colab": {
      "name": "softmax for neural network.ipynb",
      "provenance": [],
      "authorship_tag": "ABX9TyOyni7HG03qTyb3+zs2iOv2",
      "include_colab_link": true
    },
    "kernelspec": {
      "name": "python3",
      "display_name": "Python 3"
    },
    "language_info": {
      "name": "python"
    }
  },
  "cells": [
    {
      "cell_type": "markdown",
      "metadata": {
        "id": "view-in-github",
        "colab_type": "text"
      },
      "source": [
        "<a href=\"https://colab.research.google.com/github/uubs/ipynb_repo/blob/main/softmax_for_neural_network.ipynb\" target=\"_parent\"><img src=\"https://colab.research.google.com/assets/colab-badge.svg\" alt=\"Open In Colab\"/></a>"
      ]
    },
    {
      "cell_type": "markdown",
      "source": [
        "# Softmax activation\n",
        "\n",
        "Softmax activation is one of activation function.激活函数为模型提供了非线性的属性。Softmax activation 在分类问题中用的比较多。\n",
        "\n",
        "but why other activation functions can not used in the multi-classfication problem.\n",
        "\n",
        "the number of neurons in the output layer depends on the number of classes in the dataset.例如又3个类别，那么又3个输出neurons,第一个表示第一类，第二个表示第二类，第三个表示第三类。"
      ],
      "metadata": {
        "id": "N0IT6ambE9yq"
      }
    },
    {
      "cell_type": "markdown",
      "source": [
        "## 不同的activation function用在multi-classfication问题的表现\n",
        "### Sigmoid\n",
        "Sigmoid函数产生的值的范围为(0, 1)。"
      ],
      "metadata": {
        "id": "3edtLDevHROF"
      }
    },
    {
      "cell_type": "code",
      "execution_count": null,
      "metadata": {
        "id": "9-fqnGjADe7N"
      },
      "outputs": [],
      "source": [
        ""
      ]
    }
  ]
}